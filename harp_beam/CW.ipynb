{
 "cells": [
  {
   "cell_type": "code",
   "execution_count": 1,
   "metadata": {},
   "outputs": [],
   "source": [
    "import numpy as np\n",
    "import pandas as ps\n",
    "import matplotlib.pyplot as plt\n",
    "import numpy as np\n",
    "import scipy.io\n",
    "from harp_beam import compute_EEPs\n",
    "from functions import to_dBV\n",
    "from plots import plot2"
   ]
  },
  {
   "cell_type": "code",
   "execution_count": 44,
   "metadata": {},
   "outputs": [],
   "source": [
    "# set random seed\n",
    "np.random.seed(12042000)"
   ]
  },
  {
   "cell_type": "code",
   "execution_count": 45,
   "metadata": {},
   "outputs": [],
   "source": [
    "## Q 2. plot all the 256 EEPs and their average (AEP)\n",
    "num_dir = 256\n",
    "theta = np.linspace(-np.pi/2, np.pi/2, num_dir)\n",
    "phi = np.zeros_like(theta)\n",
    "\n",
    "# Compute EEPs\n",
    "v_theta_polY, v_phi_polY, v_theta_polX, v_phi_polX = compute_EEPs(theta.copy()[:, None], phi.copy()[:, None])\n",
    "\n",
    "# Calculate magnitude of EEPs in dBV\n",
    "magnitude_EEP_polY = to_dBV(np.abs(v_theta_polY))\n",
    "magnitude_EEP_polX = to_dBV(np.abs(v_theta_polX))\n",
    "\n",
    "# Calculate AEPs\n",
    "AEP_polY = to_dBV(np.sqrt(np.mean(np.abs(v_theta_polY)**2, axis=1)))\n",
    "AEP_polX = to_dBV(np.sqrt(np.mean(np.abs(v_theta_polX)**2, axis=1)))\n",
    "\n",
    "# plot EEPs and AEPs\n",
    "#plot2(theta, v_theta_polY, v_theta_polX, magnitude_EEP_polY, magnitude_EEP_polX, AEP_polY, AEP_polX)"
   ]
  },
  {
   "cell_type": "code",
   "execution_count": 46,
   "metadata": {},
   "outputs": [],
   "source": [
    "## Q 3. the model matrix, the covariance matrix, the exact gain values and (my) gain estimations are loaded as\n",
    "filename_vismat = f\"data_20feb2024_2330_100MHz.mat\"\n",
    "mat = scipy.io.loadmat(filename_vismat)\n",
    "R = np.array(mat['R']) # covariance matrix\n",
    "M_AEP = np.array(mat['M_AEP']) # model matrix using AEP\n",
    "M_EEPs = np.array(mat['M_EEPs']) # model matrix using all EEPs\n",
    "g_sol = np.array(mat['g_sol']) # exact gain solution\n",
    "g_AEP = np.array(mat['g_AEP']) # estimation using M_AEP (using this for question 5 and 6 only if you haven't been able to complete question 3 and 4)\n",
    "g_EEPs = np.array(mat['g_EEPs']) # estimation using M_EEPs"
   ]
  },
  {
   "cell_type": "code",
   "execution_count": 74,
   "metadata": {},
   "outputs": [
    {
     "name": "stderr",
     "output_type": "stream",
     "text": [
      "/var/folders/2g/9t7c77957pl9vb9x2t79vs2c0000gn/T/ipykernel_26158/925766592.py:18: ComplexWarning: Casting complex values to real discards the imaginary part\n",
      "  G[p, p] = gp  # Update the gain for antenna p\n"
     ]
    },
    {
     "name": "stdout",
     "output_type": "stream",
     "text": [
      "Convergence reached after 39 iterations.\n"
     ]
    }
   ],
   "source": [
    "# implement StEFCal\n",
    "\n",
    "max_iteration = 100\n",
    "threshold = 1e-6\n",
    "\n",
    "# initialise identity matrix for the gain matrix\n",
    "G = np.eye(len(g_sol))\n",
    "\n",
    "# iterative loop for i\n",
    "for i in range(max_iteration):\n",
    "    # Last iteration of G for comparison\n",
    "    G_prev = G.copy()  \n",
    "\n",
    "    # Iterative loop for antennas p\n",
    "    for p in range(G.shape[0]):\n",
    "        z = np.dot(G_prev, M_AEP[:, p])  # Use all rows of M_AEP for antenna p\n",
    "        gp = np.dot(np.conjugate(R[:, p]).T, z) / np.dot(np.conjugate(z).T, z)  # Calculate new gain for antenna p\n",
    "        G[p, p] = gp  # Update the gain for antenna p\n",
    "\n",
    "    # Convergence check\n",
    "    if np.linalg.norm(G - G_prev, 'fro') / np.linalg.norm(G, 'fro') < threshold:\n",
    "        print(f\"Convergence reached after {i+1} iterations.\")\n",
    "        break\n",
    "    elif i % 2 == 0:\n",
    "        # Averaging step\n",
    "        G = (G + G_prev) / 2\n"
   ]
  },
  {
   "cell_type": "code",
   "execution_count": 75,
   "metadata": {},
   "outputs": [
    {
     "data": {
      "text/plain": [
       "array([[1.2030785 , 0.        , 0.        , ..., 0.        , 0.        ,\n",
       "        0.        ],\n",
       "       [0.        , 1.13905793, 0.        , ..., 0.        , 0.        ,\n",
       "        0.        ],\n",
       "       [0.        , 0.        , 1.42989764, ..., 0.        , 0.        ,\n",
       "        0.        ],\n",
       "       ...,\n",
       "       [0.        , 0.        , 0.        , ..., 1.73081394, 0.        ,\n",
       "        0.        ],\n",
       "       [0.        , 0.        , 0.        , ..., 0.        , 0.83648703,\n",
       "        0.        ],\n",
       "       [0.        , 0.        , 0.        , ..., 0.        , 0.        ,\n",
       "        0.48974226]])"
      ]
     },
     "execution_count": 75,
     "metadata": {},
     "output_type": "execute_result"
    }
   ],
   "source": [
    "G"
   ]
  },
  {
   "cell_type": "code",
   "execution_count": 72,
   "metadata": {},
   "outputs": [],
   "source": [
    "# implement StEFCal 1\n",
    "\n",
    "max_iteration = 100\n",
    "threshold = 1e-6\n",
    "\n",
    "\n",
    "def stefcal1(max_iteration=100, threshold=1e-6):\n",
    "    # Initial gain matrix G\n",
    "    G = np.eye(len(g_sol)) # Identity matrix\n",
    "\n",
    "    # Iterative loop\n",
    "    for i in range(max_iteration):\n",
    "        # Last iteration of G for comparison\n",
    "        G_prev = G.copy() \n",
    "\n",
    "        for p in range(G.shape[0]):  # Loop over antennas p\n",
    "            z = np.dot(G_prev, M_AEP[:, p])  # Use all rows of M_AEP for antenna p\n",
    "            gp = np.dot(np.conjugate(R[:, p]).T, z) / np.dot(np.conjugate(z).T, z)  # Calculate new gain for antenna p\n",
    "            G[p, p] = gp  # Update the gain for antenna p in the matrix\n",
    "\n",
    "        # Convergence check even iterations\n",
    "        if i % 2 == 0:\n",
    "            delta_G = np.linalg.norm(G - G_prev, 'fro') / np.linalg.norm(G, 'fro')\n",
    "            if delta_G < threshold:\n",
    "                print(f\"Convergence reached after {i+1} iterations.\")\n",
    "                break\n",
    "        # Averaging step\n",
    "        G = (G + G_prev) / 2\n",
    "\n",
    "    return G"
   ]
  },
  {
   "cell_type": "code",
   "execution_count": 73,
   "metadata": {},
   "outputs": [
    {
     "name": "stderr",
     "output_type": "stream",
     "text": [
      "/var/folders/2g/9t7c77957pl9vb9x2t79vs2c0000gn/T/ipykernel_26158/418649963.py:19: ComplexWarning: Casting complex values to real discards the imaginary part\n",
      "  G[p, p] = gp  # Update the gain for antenna p in the matrix\n"
     ]
    },
    {
     "name": "stdout",
     "output_type": "stream",
     "text": [
      "Convergence reached after 61 iterations.\n"
     ]
    },
    {
     "data": {
      "text/plain": [
       "array([[1.2030785 , 0.        , 0.        , ..., 0.        , 0.        ,\n",
       "        0.        ],\n",
       "       [0.        , 1.13905793, 0.        , ..., 0.        , 0.        ,\n",
       "        0.        ],\n",
       "       [0.        , 0.        , 1.42989763, ..., 0.        , 0.        ,\n",
       "        0.        ],\n",
       "       ...,\n",
       "       [0.        , 0.        , 0.        , ..., 1.73081348, 0.        ,\n",
       "        0.        ],\n",
       "       [0.        , 0.        , 0.        , ..., 0.        , 0.83648714,\n",
       "        0.        ],\n",
       "       [0.        , 0.        , 0.        , ..., 0.        , 0.        ,\n",
       "        0.48974226]])"
      ]
     },
     "execution_count": 73,
     "metadata": {},
     "output_type": "execute_result"
    }
   ],
   "source": [
    "stefcal1()"
   ]
  },
  {
   "cell_type": "code",
   "execution_count": 61,
   "metadata": {},
   "outputs": [
    {
     "name": "stderr",
     "output_type": "stream",
     "text": [
      "/var/folders/2g/9t7c77957pl9vb9x2t79vs2c0000gn/T/ipykernel_26158/1005139259.py:18: ComplexWarning: Casting complex values to real discards the imaginary part\n",
      "  G[i] = gp  # Update the gain for antenna p\n"
     ]
    },
    {
     "ename": "ValueError",
     "evalue": "Invalid norm order 'fro' for vectors",
     "output_type": "error",
     "traceback": [
      "\u001b[0;31m---------------------------------------------------------------------------\u001b[0m",
      "\u001b[0;31mValueError\u001b[0m                                Traceback (most recent call last)",
      "Cell \u001b[0;32mIn[61], line 21\u001b[0m\n\u001b[1;32m     18\u001b[0m     G[i] \u001b[38;5;241m=\u001b[39m gp  \u001b[38;5;66;03m# Update the gain for antenna p\u001b[39;00m\n\u001b[1;32m     20\u001b[0m \u001b[38;5;66;03m# Convergence check\u001b[39;00m\n\u001b[0;32m---> 21\u001b[0m \u001b[38;5;28;01mif\u001b[39;00m \u001b[43mnp\u001b[49m\u001b[38;5;241;43m.\u001b[39;49m\u001b[43mlinalg\u001b[49m\u001b[38;5;241;43m.\u001b[39;49m\u001b[43mnorm\u001b[49m\u001b[43m(\u001b[49m\u001b[43mG\u001b[49m\u001b[43m[\u001b[49m\u001b[43mi\u001b[49m\u001b[43m]\u001b[49m\u001b[43m \u001b[49m\u001b[38;5;241;43m-\u001b[39;49m\u001b[43m \u001b[49m\u001b[43mG\u001b[49m\u001b[43m[\u001b[49m\u001b[43mi\u001b[49m\u001b[38;5;241;43m-\u001b[39;49m\u001b[38;5;241;43m1\u001b[39;49m\u001b[43m]\u001b[49m\u001b[43m,\u001b[49m\u001b[43m \u001b[49m\u001b[38;5;124;43m'\u001b[39;49m\u001b[38;5;124;43mfro\u001b[39;49m\u001b[38;5;124;43m'\u001b[39;49m\u001b[43m)\u001b[49m \u001b[38;5;241m/\u001b[39m np\u001b[38;5;241m.\u001b[39mlinalg\u001b[38;5;241m.\u001b[39mnorm(G[i], \u001b[38;5;124m'\u001b[39m\u001b[38;5;124mfro\u001b[39m\u001b[38;5;124m'\u001b[39m) \u001b[38;5;241m<\u001b[39m threshold:\n\u001b[1;32m     22\u001b[0m     \u001b[38;5;28mprint\u001b[39m(\u001b[38;5;124mf\u001b[39m\u001b[38;5;124m\"\u001b[39m\u001b[38;5;124mConvergence reached after \u001b[39m\u001b[38;5;132;01m{\u001b[39;00mi\u001b[38;5;241m+\u001b[39m\u001b[38;5;241m1\u001b[39m\u001b[38;5;132;01m}\u001b[39;00m\u001b[38;5;124m iterations.\u001b[39m\u001b[38;5;124m\"\u001b[39m)\n\u001b[1;32m     23\u001b[0m     \u001b[38;5;28;01mbreak\u001b[39;00m\n",
      "File \u001b[0;32m<__array_function__ internals>:200\u001b[0m, in \u001b[0;36mnorm\u001b[0;34m(*args, **kwargs)\u001b[0m\n",
      "File \u001b[0;32m~/miniconda3/envs/ska-env/lib/python3.8/site-packages/numpy/linalg/linalg.py:2546\u001b[0m, in \u001b[0;36mnorm\u001b[0;34m(x, ord, axis, keepdims)\u001b[0m\n\u001b[1;32m   2543\u001b[0m \u001b[38;5;66;03m# None of the str-type keywords for ord ('fro', 'nuc')\u001b[39;00m\n\u001b[1;32m   2544\u001b[0m \u001b[38;5;66;03m# are valid for vectors\u001b[39;00m\n\u001b[1;32m   2545\u001b[0m \u001b[38;5;28;01melif\u001b[39;00m \u001b[38;5;28misinstance\u001b[39m(\u001b[38;5;28mord\u001b[39m, \u001b[38;5;28mstr\u001b[39m):\n\u001b[0;32m-> 2546\u001b[0m     \u001b[38;5;28;01mraise\u001b[39;00m \u001b[38;5;167;01mValueError\u001b[39;00m(\u001b[38;5;124mf\u001b[39m\u001b[38;5;124m\"\u001b[39m\u001b[38;5;124mInvalid norm order \u001b[39m\u001b[38;5;124m'\u001b[39m\u001b[38;5;132;01m{\u001b[39;00m\u001b[38;5;28mord\u001b[39m\u001b[38;5;132;01m}\u001b[39;00m\u001b[38;5;124m'\u001b[39m\u001b[38;5;124m for vectors\u001b[39m\u001b[38;5;124m\"\u001b[39m)\n\u001b[1;32m   2547\u001b[0m \u001b[38;5;28;01melse\u001b[39;00m:\n\u001b[1;32m   2548\u001b[0m     absx \u001b[38;5;241m=\u001b[39m \u001b[38;5;28mabs\u001b[39m(x)\n",
      "\u001b[0;31mValueError\u001b[0m: Invalid norm order 'fro' for vectors"
     ]
    }
   ],
   "source": [
    "# implement StEFCal 2\n",
    "\n",
    "max_iteration = 100\n",
    "threshold = 1e-6\n",
    "\n",
    "# initialise identity matrix for the gain matrix\n",
    "G = np.eye(len(g_sol))\n",
    "\n",
    "# iterative loop for i\n",
    "for i in range(max_iteration):\n",
    "    # Last iteration of G for comparison\n",
    "    G[i] = G[i-1]\n",
    "\n",
    "    # Iterative loop for antennas p\n",
    "    for p in range(G.shape[0]):\n",
    "        z = np.dot(G[i], M_AEP[:, p])  # Use all rows of M_AEP for antenna p\n",
    "        gp = np.dot(np.conjugate(R[:, p]).T, z) / np.dot(np.conjugate(z).T, z)  # Calculate new gain for antenna p\n",
    "        G[i] = gp  # Update the gain for antenna p\n",
    "\n",
    "    # Convergence check\n",
    "    if np.linalg.norm(G[i] - G[i-1], 'fro') / np.linalg.norm(G[i], 'fro') < threshold:\n",
    "        print(f\"Convergence reached after {i+1} iterations.\")\n",
    "        break\n",
    "    elif i % 2 == 0:\n",
    "        # Averaging step\n",
    "        G = (G + G_prev) / 2\n"
   ]
  },
  {
   "cell_type": "code",
   "execution_count": null,
   "metadata": {},
   "outputs": [],
   "source": []
  }
 ],
 "metadata": {
  "kernelspec": {
   "display_name": "ska-env",
   "language": "python",
   "name": "python3"
  },
  "language_info": {
   "codemirror_mode": {
    "name": "ipython",
    "version": 3
   },
   "file_extension": ".py",
   "mimetype": "text/x-python",
   "name": "python",
   "nbconvert_exporter": "python",
   "pygments_lexer": "ipython3",
   "version": "3.8.18"
  }
 },
 "nbformat": 4,
 "nbformat_minor": 2
}
