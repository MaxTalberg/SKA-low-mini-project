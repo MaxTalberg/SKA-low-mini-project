{
 "cells": [
  {
   "cell_type": "code",
   "execution_count": 1,
   "metadata": {},
   "outputs": [],
   "source": [
    "import time\n",
    "import numpy as np\n",
    "import pandas as ps\n",
    "import matplotlib.pyplot as plt\n",
    "import numpy as np\n",
    "import scipy.io\n",
    "from harp_beam import compute_EEPs\n",
    "from functions import to_dBV, stefcal, stefcal_optimised\n",
    "from plots import plot2"
   ]
  },
  {
   "cell_type": "code",
   "execution_count": 2,
   "metadata": {},
   "outputs": [],
   "source": [
    "# set random seed\n",
    "np.random.seed(12042000)"
   ]
  },
  {
   "cell_type": "code",
   "execution_count": 3,
   "metadata": {},
   "outputs": [],
   "source": [
    "## Q 2. plot all the 256 EEPs and their average (AEP)\n",
    "num_dir = 256\n",
    "theta = np.linspace(-np.pi/2, np.pi/2, num_dir)\n",
    "phi = np.zeros_like(theta)\n",
    "\n",
    "# Compute EEPs\n",
    "v_theta_polY, v_phi_polY, v_theta_polX, v_phi_polX = compute_EEPs(theta.copy()[:, None], phi.copy()[:, None])\n",
    "\n",
    "# Calculate magnitude of EEPs in dBV\n",
    "magnitude_EEP_polY = to_dBV(np.abs(v_theta_polY))\n",
    "magnitude_EEP_polX = to_dBV(np.abs(v_theta_polX))\n",
    "\n",
    "# Calculate AEPs\n",
    "AEP_polY = to_dBV(np.sqrt(np.mean(np.abs(v_theta_polY)**2, axis=1)))\n",
    "AEP_polX = to_dBV(np.sqrt(np.mean(np.abs(v_theta_polX)**2, axis=1)))\n",
    "\n",
    "# plot EEPs and AEPs\n",
    "#plot2(theta, v_theta_polY, v_theta_polX, magnitude_EEP_polY, magnitude_EEP_polX, AEP_polY, AEP_polX)"
   ]
  },
  {
   "cell_type": "code",
   "execution_count": 4,
   "metadata": {},
   "outputs": [],
   "source": [
    "## Q 3. the model matrix, the covariance matrix, the exact gain values and (my) gain estimations are loaded as\n",
    "\n",
    "filename_vismat = f\"data_20feb2024_2330_100MHz.mat\"\n",
    "mat = scipy.io.loadmat(filename_vismat)\n",
    "R = np.array(mat['R']) # covariance matrix\n",
    "M_AEP = np.array(mat['M_AEP']) # model matrix using AEP\n",
    "M_EEPs = np.array(mat['M_EEPs']) # model matrix using all EEPs\n",
    "g_sol = np.array(mat['g_sol']) # exact gain solution\n",
    "g_AEP = np.array(mat['g_AEP']) # estimation using M_AEP (using this for question 5 and 6 only if you haven't been able to complete question 3 and 4)\n",
    "g_EEPs = np.array(mat['g_EEPs']) # estimation using M_EEPs\n"
   ]
  },
  {
   "cell_type": "code",
   "execution_count": null,
   "metadata": {},
   "outputs": [],
   "source": [
    "#"
   ]
  }
 ],
 "metadata": {
  "kernelspec": {
   "display_name": "ska-env",
   "language": "python",
   "name": "python3"
  },
  "language_info": {
   "codemirror_mode": {
    "name": "ipython",
    "version": 3
   },
   "file_extension": ".py",
   "mimetype": "text/x-python",
   "name": "python",
   "nbconvert_exporter": "python",
   "pygments_lexer": "ipython3",
   "version": "3.8.18"
  }
 },
 "nbformat": 4,
 "nbformat_minor": 2
}
