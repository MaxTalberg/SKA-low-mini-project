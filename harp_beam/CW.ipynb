{
 "cells": [
  {
   "cell_type": "code",
   "execution_count": 1,
   "metadata": {},
   "outputs": [],
   "source": [
    "import numpy as np\n",
    "import pandas as ps\n",
    "import matplotlib.pyplot as plt\n",
    "import numpy as np\n",
    "import scipy.io\n",
    "from harp_beam import compute_EEPs\n",
    "from functions import to_dBV\n",
    "from plots import plot2"
   ]
  },
  {
   "cell_type": "code",
   "execution_count": 2,
   "metadata": {},
   "outputs": [],
   "source": [
    "## Q 2. plot all the 256 EEPs and their average (AEP)\n",
    "num_dir = 256\n",
    "theta = np.linspace(-np.pi/2, np.pi/2, num_dir)\n",
    "phi = np.zeros_like(theta)\n",
    "\n",
    "# Compute EEPs\n",
    "v_theta_polY, v_phi_polY, v_theta_polX, v_phi_polX = compute_EEPs(theta.copy()[:, None], phi.copy()[:, None])\n",
    "\n",
    "# Calculate magnitude of EEPs in dBV\n",
    "magnitude_EEP_polY = to_dBV(np.abs(v_theta_polY))\n",
    "magnitude_EEP_polX = to_dBV(np.abs(v_theta_polX))\n",
    "\n",
    "# Calculate AEPs\n",
    "AEP_polY = to_dBV(np.sqrt(np.mean(np.abs(v_theta_polY)**2, axis=1)))\n",
    "AEP_polX = to_dBV(np.sqrt(np.mean(np.abs(v_theta_polX)**2, axis=1)))\n",
    "\n",
    "# plot EEPs and AEPs\n",
    "#plot2(theta, v_theta_polY, v_theta_polX, magnitude_EEP_polY, magnitude_EEP_polX, AEP_polY, AEP_polX)"
   ]
  },
  {
   "cell_type": "code",
   "execution_count": 3,
   "metadata": {},
   "outputs": [],
   "source": [
    "## Q 3. the model matrix, the covariance matrix, the exact gain values and (my) gain estimations are loaded as\n",
    "filename_vismat = f\"data_20feb2024_2330_100MHz.mat\"\n",
    "mat = scipy.io.loadmat(filename_vismat)\n",
    "R = np.array(mat['R']) # covariance matrix\n",
    "M_AEP = np.array(mat['M_AEP']) # model matrix using AEP\n",
    "M_EEPs = np.array(mat['M_EEPs']) # model matrix using all EEPs\n",
    "g_sol = np.array(mat['g_sol']) # exact gain solution\n",
    "g_AEP = np.array(mat['g_AEP']) # estimation using M_AEP (using this for question 5 and 6 only if you haven't been able to complete question 3 and 4)\n",
    "g_EEPs = np.array(mat['g_EEPs']) # estimation using M_EEPs"
   ]
  },
  {
   "cell_type": "code",
   "execution_count": 39,
   "metadata": {},
   "outputs": [
    {
     "name": "stderr",
     "output_type": "stream",
     "text": [
      "/var/folders/2g/9t7c77957pl9vb9x2t79vs2c0000gn/T/ipykernel_26158/1678686017.py:17: ComplexWarning: Casting complex values to real discards the imaginary part\n",
      "  G[p, p] = gp  # Update the gain for antenna p\n"
     ]
    },
    {
     "name": "stdout",
     "output_type": "stream",
     "text": [
      "Convergence reached after 61 iterations.\n"
     ]
    }
   ],
   "source": [
    "# implement StEFCal\n",
    "\n",
    "max_iteration = 100\n",
    "threshold = 1e-8\n",
    "\n",
    "# initialise identity matrix for the gain matrix\n",
    "G = np.eye(len(g_sol))\n",
    "\n",
    "# iterative loop for i\n",
    "for i in range(max_iteration):\n",
    "    G_prev = G.copy()  # You need to copy G from the last iteration for comparison later\n",
    "\n",
    "    # Iterative loop for antennas p\n",
    "    for p in range(G.shape[0]):\n",
    "        z = np.dot(G_prev, M_AEP[:, p])  # Use all rows of M_AEP for antenna p\n",
    "        gp = np.dot(np.conjugate(R[:, p]).T, z) / np.dot(np.conjugate(z).T, z)  # Calculate new gain for antenna p\n",
    "        G[p, p] = gp  # Update the gain for antenna p\n",
    "\n",
    "    # Convergence check\n",
    "    if np.linalg.norm(G - G_prev, 'fro') / np.linalg.norm(G, 'fro') < threshold:\n",
    "        print(f\"Convergence reached after {i+1} iterations.\")\n",
    "        break\n",
    "    elif i % 2 == 0:\n",
    "        # Averaging step\n",
    "        G = (G + G_prev) / 2\n"
   ]
  },
  {
   "cell_type": "code",
   "execution_count": 40,
   "metadata": {},
   "outputs": [
    {
     "data": {
      "text/plain": [
       "array([[1.20307849, 0.        , 0.        , ..., 0.        , 0.        ,\n",
       "        0.        ],\n",
       "       [0.        , 1.13905793, 0.        , ..., 0.        , 0.        ,\n",
       "        0.        ],\n",
       "       [0.        , 0.        , 1.4298976 , ..., 0.        , 0.        ,\n",
       "        0.        ],\n",
       "       ...,\n",
       "       [0.        , 0.        , 0.        , ..., 1.73081644, 0.        ,\n",
       "        0.        ],\n",
       "       [0.        , 0.        , 0.        , ..., 0.        , 0.83648685,\n",
       "        0.        ],\n",
       "       [0.        , 0.        , 0.        , ..., 0.        , 0.        ,\n",
       "        0.48974225]])"
      ]
     },
     "execution_count": 40,
     "metadata": {},
     "output_type": "execute_result"
    }
   ],
   "source": [
    "G"
   ]
  },
  {
   "cell_type": "code",
   "execution_count": null,
   "metadata": {},
   "outputs": [],
   "source": []
  }
 ],
 "metadata": {
  "kernelspec": {
   "display_name": "ska-env",
   "language": "python",
   "name": "python3"
  },
  "language_info": {
   "codemirror_mode": {
    "name": "ipython",
    "version": 3
   },
   "file_extension": ".py",
   "mimetype": "text/x-python",
   "name": "python",
   "nbconvert_exporter": "python",
   "pygments_lexer": "ipython3",
   "version": "3.8.18"
  }
 },
 "nbformat": 4,
 "nbformat_minor": 2
}
